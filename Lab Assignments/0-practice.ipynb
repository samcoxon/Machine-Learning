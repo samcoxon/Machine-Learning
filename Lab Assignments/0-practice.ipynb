{
 "cells": [
  {
   "cell_type": "markdown",
   "metadata": {},
   "source": [
    "# Introduction\n",
    "\n",
    "In this session we will get familiar with Python, the iPython notebook (IPYNB) and some useful numeric/plotting libraries\n",
    "\n",
    "An IPYNB is built up from cells (also known as segments or blocks), there exists several kinds of cells. This is a \"markdown\" cell and the next cell is a code cell.\n",
    "\n",
    "In the next cell three libraries are imported in one go: Numpy, Scipy and Matplotlib.\n",
    "\n",
    "* The main functionality of Numpy is arrays, which represent vectors and matrices. These can be used for doing all sorts of computations. Numpy functions can be accessed with the prefix np.\n",
    "\n",
    "* Scipy is a large scientific library for all sorts of more advanced functions. Such as automatic optimization, sampling from many different probability distributions and automatically solving Differential Equations. In short, you will likely not use it during this course, but it might be useful for the future. Scipy functions can be accessed with the prefix sp.\n",
    "\n",
    "* With Matplotlib it becomes trivial to make all sorts of visualizations. Matplotlib functions can be accessed with the prefix plt."
   ]
  },
  {
   "cell_type": "code",
   "execution_count": 1,
   "metadata": {
    "collapsed": false
   },
   "outputs": [
    {
     "name": "stderr",
     "output_type": "stream",
     "text": [
      "/Users/SamCoxon/anaconda/lib/python2.7/site-packages/matplotlib/font_manager.py:273: UserWarning: Matplotlib is building the font cache using fc-list. This may take a moment.\n",
      "  warnings.warn('Matplotlib is building the font cache using fc-list. This may take a moment.')\n"
     ]
    },
    {
     "name": "stdout",
     "output_type": "stream",
     "text": [
      "Populating the interactive namespace from numpy and matplotlib\n"
     ]
    }
   ],
   "source": [
    "#Select this cell and press shift+enter or the play arrow to run it\n",
    "%pylab inline\n",
    "\n",
    "#Pylab includes numpy, scipy and matplotlib\n",
    "#The 'inline' is necessary for plots to show up inside the IPYNB"
   ]
  },
  {
   "cell_type": "markdown",
   "metadata": {},
   "source": [
    "Let's start by exploring several basic Numpy functions:"
   ]
  },
  {
   "cell_type": "code",
   "execution_count": 2,
   "metadata": {
    "collapsed": false
   },
   "outputs": [
    {
     "data": {
      "text/plain": [
       "[<matplotlib.lines.Line2D at 0x10a7a5e10>]"
      ]
     },
     "execution_count": 2,
     "metadata": {},
     "output_type": "execute_result"
    },
    {
     "data": {
      "image/png": "[encoded data removed]",
      "text/plain": [
       "<matplotlib.figure.Figure at 0x1096e3490>"
      ]
     },
     "metadata": {},
     "output_type": "display_data"
    }
   ],
   "source": [
    "#The function np.array, creates a Numpy array from a list.\n",
    "vector_x = np.array([0,1,2,3,4,5])\n",
    "vector_y = np.array([0,0.1,0.2,0.3,0.4,0.5])\n",
    "\n",
    "plt.plot(vector_x,vector_y,'o')"
   ]
  },
  {
   "cell_type": "code",
   "execution_count": 3,
   "metadata": {
    "collapsed": false
   },
   "outputs": [
    {
     "data": {
      "text/plain": [
       "[<matplotlib.lines.Line2D at 0x109791910>]"
      ]
     },
     "execution_count": 3,
     "metadata": {},
     "output_type": "execute_result"
    },
    {
     "data": {
      "image/png": "[encoded data removed]",
      "text/plain": [
       "<matplotlib.figure.Figure at 0x10a58cd10>"
      ]
     },
     "metadata": {},
     "output_type": "display_data"
    }
   ],
   "source": [
    "#To get a line, leave out the 'o' parameter\n",
    "plt.plot(vector_x,vector_y)"
   ]
  },
  {
   "cell_type": "code",
   "execution_count": 4,
   "metadata": {
    "collapsed": false
   },
   "outputs": [
    {
     "name": "stdout",
     "output_type": "stream",
     "text": [
      "[0 1 2 3 4 5]\n",
      "[ 0.   0.1  0.2  0.3  0.4  0.5]\n"
     ]
    },
    {
     "data": {
      "text/plain": [
       "[<matplotlib.lines.Line2D at 0x10a467290>]"
      ]
     },
     "execution_count": 4,
     "metadata": {},
     "output_type": "execute_result"
    },
    {
     "data": {
      "image/png": "[encoded data removed]",
      "text/plain": [
       "<matplotlib.figure.Figure at 0x108fcd250>"
      ]
     },
     "metadata": {},
     "output_type": "display_data"
    }
   ],
   "source": [
    "#In order to create a vector with a range of numbers, use arange:\n",
    "vector2 = np.arange(0,6)\n",
    "vector3 = np.arange(0,0.6,0.1)\n",
    "print vector2 #Mind that the number 6 is excluded and that there are 6 items in the vector2\n",
    "print vector3\n",
    "\n",
    "plt.plot(vector2,vector3,'o')\n",
    "#Notice anything special about this plot in comparison to the last plot?"
   ]
  },
  {
   "cell_type": "code",
   "execution_count": 5,
   "metadata": {
    "collapsed": false
   },
   "outputs": [
    {
     "name": "stdout",
     "output_type": "stream",
     "text": [
      "6\n"
     ]
    }
   ],
   "source": [
    "print vector2.size #The number of elements in the vector"
   ]
  },
  {
   "cell_type": "code",
   "execution_count": 6,
   "metadata": {
    "collapsed": false
   },
   "outputs": [
    {
     "name": "stdout",
     "output_type": "stream",
     "text": [
      "(6,)\n",
      "[[ 0  1  2  3  4]\n",
      " [ 5  6  7  8  9]\n",
      " [10 11 12 13 14]\n",
      " [15 16 17 18 19]]\n",
      "(4, 5)\n"
     ]
    }
   ],
   "source": [
    "vector4 = np.arange(0,20)\n",
    "print vector2.shape #The shape of the vector\n",
    "\n",
    "matrix1 = vector4.reshape(4,5) #Reshape the vector in a matrix form\n",
    "print matrix1\n",
    "print matrix1.shape"
   ]
  },
  {
   "cell_type": "code",
   "execution_count": 7,
   "metadata": {
    "collapsed": false
   },
   "outputs": [
    {
     "name": "stdout",
     "output_type": "stream",
     "text": [
      "6\n"
     ]
    }
   ],
   "source": [
    "# the number 6 (or more generally the (2,2)-element of the matrix) is accessed by the\n",
    "# following command. The first 1 specifies the row number the second 1 specifies the\n",
    "# column number\n",
    "print(matrix1[1,1])"
   ]
  },
  {
   "cell_type": "code",
   "execution_count": 8,
   "metadata": {
    "collapsed": false
   },
   "outputs": [
    {
     "name": "stdout",
     "output_type": "stream",
     "text": [
      "[[ 0  5 10 15]\n",
      " [ 1  6 11 16]\n",
      " [ 2  7 12 17]\n",
      " [ 3  8 13 18]\n",
      " [ 4  9 14 19]]\n"
     ]
    }
   ],
   "source": [
    "#Transposing a matrix is done by:\n",
    "print matrix1.T"
   ]
  },
  {
   "cell_type": "code",
   "execution_count": 11,
   "metadata": {
    "collapsed": false
   },
   "outputs": [
    {
     "name": "stdout",
     "output_type": "stream",
     "text": [
      "[[ 0  1  2  3  4]\n",
      " [ 5  6  7  8  9]\n",
      " [10 11 12 13 14]\n",
      " [15 16 17 18 19]]\n"
     ]
    }
   ],
   "source": [
    "# One thing about standard arithmetic operations: they apply element-wise to the elements\n",
    "# of a matrix. Here you see squaring.\n",
    "print(matrix1)"
   ]
  },
  {
   "cell_type": "code",
   "execution_count": 10,
   "metadata": {
    "collapsed": false
   },
   "outputs": [
    {
     "name": "stdout",
     "output_type": "stream",
     "text": [
      "First option \n",
      "[[  30   80  130  180]\n",
      " [  80  255  430  605]\n",
      " [ 130  430  730 1030]\n",
      " [ 180  605 1030 1455]]\n",
      "Second option \n",
      "[[  30   80  130  180]\n",
      " [  80  255  430  605]\n",
      " [ 130  430  730 1030]\n",
      " [ 180  605 1030 1455]]\n"
     ]
    }
   ],
   "source": [
    "# Matrix multiplication is done using the dot() function\n",
    "print \"First option \\n\",np.dot(matrix1,matrix1.T)\n",
    "# This also works:\n",
    "print \"Second option \\n\",matrix1.dot(matrix1.T)\n",
    "# It gives the same result"
   ]
  },
  {
   "cell_type": "code",
   "execution_count": 12,
   "metadata": {
    "collapsed": false
   },
   "outputs": [
    {
     "name": "stdout",
     "output_type": "stream",
     "text": [
      "[[-0.176 -0.092 -0.008  0.076]\n",
      " [-0.094 -0.048 -0.002  0.044]\n",
      " [-0.012 -0.004  0.004  0.012]\n",
      " [ 0.07   0.04   0.01  -0.02 ]\n",
      " [ 0.152  0.084  0.016 -0.052]]\n"
     ]
    }
   ],
   "source": [
    "# To obtain the inverse of a matrix use the following. Note that not all matrices are\n",
    "# invertible. However, pinv() will give you a pseudo-inverse that is obtainable for all\n",
    "# matrices. Hence this operation will always succeed.\n",
    "print(np.linalg.pinv(matrix1))"
   ]
  },
  {
   "cell_type": "code",
   "execution_count": 13,
   "metadata": {
    "collapsed": false
   },
   "outputs": [
    {
     "name": "stdout",
     "output_type": "stream",
     "text": [
      "3.88578058619e-16\n"
     ]
    }
   ],
   "source": [
    "# Likewise you can get the determinant of a square matrix. However, there is nothing\n",
    "# like a pseudo-determinant and hence this function works only on square matrices.\n",
    "\n",
    "matrix2 = [[1,2,3],[4,5,6],[8,9,10]]\n",
    "print(np.linalg.det(matrix2))"
   ]
  },
  {
   "cell_type": "code",
   "execution_count": 15,
   "metadata": {
    "collapsed": false
   },
   "outputs": [
    {
     "name": "stdout",
     "output_type": "stream",
     "text": [
      "[0 1 2 3 4 5]\n",
      "15\n",
      "15\n"
     ]
    }
   ],
   "source": [
    "# It will often come in handy to sum over the elements of a vector. This is what the\n",
    "# sum() function is for.\n",
    "print vector2\n",
    "\n",
    "print(vector2.sum())\n",
    "\n",
    "#But this also works!\n",
    "print(sum(vector2))"
   ]
  },
  {
   "cell_type": "code",
   "execution_count": 16,
   "metadata": {
    "collapsed": false
   },
   "outputs": [
    {
     "name": "stdout",
     "output_type": "stream",
     "text": [
      "190\n",
      "[30 34 38 42 46]\n",
      "[10 35 60 85]\n"
     ]
    }
   ],
   "source": [
    "# The same can be done with matrices. To sum over the columns use the argument 0. To sum\n",
    "# over rows use the argument 1. If no argument is specified, the sum over all array\n",
    "# elements will be calculated. \n",
    "print(matrix1.sum())\n",
    "print(matrix1.sum(0))\n",
    "print(matrix1.sum(1))"
   ]
  },
  {
   "cell_type": "code",
   "execution_count": 17,
   "metadata": {
    "collapsed": false
   },
   "outputs": [
    {
     "name": "stdout",
     "output_type": "stream",
     "text": [
      "2.5\n"
     ]
    }
   ],
   "source": [
    "# Now instead of taking the sum of vector, you usually want to obtain its mean.\n",
    "print(vector2.mean())"
   ]
  },
  {
   "cell_type": "code",
   "execution_count": 18,
   "metadata": {
    "collapsed": false,
    "scrolled": true
   },
   "outputs": [
    {
     "name": "stdout",
     "output_type": "stream",
     "text": [
      "9.5\n",
      "[  7.5   8.5   9.5  10.5  11.5]\n",
      "[  2.   7.  12.  17.]\n"
     ]
    }
   ],
   "source": [
    "# There is also a similar operation for matrices,\n",
    "print(matrix1.mean())\n",
    "print(matrix1.mean(0))\n",
    "print(matrix1.mean(1))"
   ]
  },
  {
   "cell_type": "markdown",
   "metadata": {},
   "source": [
    "# Part 2\n",
    "\n",
    "These are the basics. Practice the above functions by trying out the following exercises.\n",
    "\n",
    "* plot $y = x^2$ for $x \\in [-10,10]$\n",
    "    - This means creating a vector x, creating a vector y which is x squared and then plotting x,y\n",
    "* plot a normal distribution, look up the formula\n",
    "* Sample many times from a [normal distribution](http://docs.scipy.org/doc/numpy/reference/generated/numpy.random.normal.html) and plot these as dots\n",
    "* Take your last plot and try to form it into a histogrm\n",
    "* Combine the histogram and the normal distribution in one plot\n",
    "\n",
    "If you get stuck you have several options:\n",
    "* look up [numpy](http://docs.scipy.org/doc/numpy/search.html) and [matplotlib](http://matplotlib.org/search.html) functions\n",
    "* __ask Google__, lots of people use these packages so many questions have been asked before!\n",
    "* ask your neighbor\n",
    "* ask your teachers\n",
    "\n",
    "Create a new cell by pressing \"insert\" choosing \"insert below\""
   ]
  },
  {
   "cell_type": "code",
   "execution_count": 28,
   "metadata": {
    "collapsed": false
   },
   "outputs": [
    {
     "name": "stdout",
     "output_type": "stream",
     "text": [
      "[-10  -9  -8  -7  -6  -5  -4  -3  -2  -1   0   1   2   3   4   5   6   7\n",
      "   8   9  10]\n",
      "[100  81  64  49  36  25  16   9   4   1   0   1   4   9  16  25  36  49\n",
      "  64  81 100]\n"
     ]
    },
    {
     "data": {
      "text/plain": [
       "[<matplotlib.lines.Line2D at 0x10a658090>]"
      ]
     },
     "execution_count": 28,
     "metadata": {},
     "output_type": "execute_result"
    },
    {
     "data": {
      "image/png": "[encoded data removed]",
      "text/plain": [
       "<matplotlib.figure.Figure at 0x10a4133d0>"
      ]
     },
     "metadata": {},
     "output_type": "display_data"
    }
   ],
   "source": [
    "myvecx = np.arange(-10,11)\n",
    "myvecy = myvecx**2\n",
    "print myvecx\n",
    "print myvecy\n",
    "\n",
    "plt.plot(myvecx, myvecy)"
   ]
  },
  {
   "cell_type": "code",
   "execution_count": 56,
   "metadata": {
    "collapsed": false
   },
   "outputs": [
    {
     "data": {
      "text/plain": [
       "[<matplotlib.lines.Line2D at 0x11250c8d0>]"
      ]
     },
     "execution_count": 56,
     "metadata": {},
     "output_type": "execute_result"
    },
    {
     "data": {
      "image/png": "[encoded data removed]",
      "text/plain": [
       "<matplotlib.figure.Figure at 0x111506410>"
      ]
     },
     "metadata": {},
     "output_type": "display_data"
    }
   ],
   "source": [
    "# import numpy as np\n",
    "# import matplotlib.pyplot as plt\n",
    "from scipy.stats import norm\n",
    "\n",
    "x_axis = np.arange(-10, 10, 0.01)\n",
    "plt.plot(x_axis, norm.pdf(x_axis,0,1))"
   ]
  },
  {
   "cell_type": "code",
   "execution_count": 73,
   "metadata": {
    "collapsed": false
   },
   "outputs": [
    {
     "ename": "SyntaxError",
     "evalue": "invalid syntax (<ipython-input-73-154e4a2e0533>, line 8)",
     "output_type": "error",
     "traceback": [
      "\u001b[0;36m  File \u001b[0;32m\"<ipython-input-73-154e4a2e0533>\"\u001b[0;36m, line \u001b[0;32m8\u001b[0m\n\u001b[0;31m    print norm_dist(2)\u001b[0m\n\u001b[0m        ^\u001b[0m\n\u001b[0;31mSyntaxError\u001b[0m\u001b[0;31m:\u001b[0m invalid syntax\n"
     ]
    }
   ],
   "source": [
    "print numpy.random.normal(0,1,50)\n",
    "plt.plot(numpy.random.normal(0,1,50))\n",
    "\n",
    "def norm_dist(x):\n",
    "    return (1/(1 * np.sqrt(2 * 3.14)) * np.exp( - (x - 0)**2 / (2 * 1**2))\n",
    "\n",
    "                                            \n",
    "print norm_dist(2)"
   ]
  },
  {
   "cell_type": "markdown",
   "metadata": {
    "collapsed": true
   },
   "source": [
    "# "
   ]
  }
 ],
 "metadata": {
  "anaconda-cloud": {},
  "kernelspec": {
   "display_name": "Python [Root]",
   "language": "python",
   "name": "Python [Root]"
  },
  "language_info": {
   "codemirror_mode": {
    "name": "ipython",
    "version": 2
   },
   "file_extension": ".py",
   "mimetype": "text/x-python",
   "name": "python",
   "nbconvert_exporter": "python",
   "pygments_lexer": "ipython2",
   "version": "2.7.12"
  }
 },
 "nbformat": 4,
 "nbformat_minor": 0
}
